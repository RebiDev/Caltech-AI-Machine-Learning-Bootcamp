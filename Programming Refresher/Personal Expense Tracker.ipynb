{
 "cells": [
  {
   "cell_type": "markdown",
   "id": "9d6dde71-6f95-494d-9f4f-2250b9936bf4",
   "metadata": {},
   "source": [
    "# Personal Expense Tracker in Python\n",
    "\n",
    "This Jupyter Notebook implements a personal expense tracker that allows users to:\n",
    "- Add and view expenses\n",
    "- Set and track a budget\n",
    "- Save and load expense data using a CSV file\n",
    "\n",
    "## Step 1: Import Libraries and Initialize Data"
   ]
  },
  {
   "cell_type": "code",
   "execution_count": 17,
   "id": "b55f5301-0713-4a5e-8437-36ab5228c447",
   "metadata": {},
   "outputs": [],
   "source": [
    "import csv\n",
    "import os\n",
    "\n",
    "data_file = \"expenses.csv\"\n",
    "expenses = []\n",
    "budget = 0.0"
   ]
  },
  {
   "cell_type": "markdown",
   "id": "ed53ec77-d0f4-4a0b-8b67-ad9d1b41f2fa",
   "metadata": {},
   "source": [
    "## Step 2: Load Expenses from CSV"
   ]
  },
  {
   "cell_type": "code",
   "execution_count": 10,
   "id": "acea932f-cbb1-4fdd-9027-7d43be7decc6",
   "metadata": {},
   "outputs": [],
   "source": [
    "def load_expenses():\n",
    "    global expenses\n",
    "    if os.path.exists(data_file):\n",
    "        with open(data_file, mode='r', newline='') as file:\n",
    "            reader = csv.DictReader(file)\n",
    "            expenses = [row for row in reader]\n",
    "            for expense in expenses:\n",
    "                expense['amount'] = float(expense['amount'])\n",
    "\n",
    "load_expenses()  # Load expenses on startup\n"
   ]
  },
  {
   "cell_type": "markdown",
   "id": "da0d1f5a-84f7-4bc7-a23d-41b256840ea7",
   "metadata": {},
   "source": [
    "## Step 3: Save Expenses to CSV"
   ]
  },
  {
   "cell_type": "code",
   "execution_count": 11,
   "id": "23c7f93c-957d-4215-98c7-d7023c337e18",
   "metadata": {},
   "outputs": [],
   "source": [
    "def save_expenses():\n",
    "    with open(data_file, mode='w', newline='') as file:\n",
    "        fieldnames = ['date', 'category', 'amount', 'description']\n",
    "        writer = csv.DictWriter(file, fieldnames=fieldnames)\n",
    "        writer.writeheader()\n",
    "        for expense in expenses:\n",
    "            writer.writerow(expense)\n",
    "    print(\"Expenses saved successfully!\")"
   ]
  },
  {
   "cell_type": "markdown",
   "id": "ed0ecd50-e888-4ff3-808f-5edad5dfe19c",
   "metadata": {},
   "source": [
    "# Step 4: Add an Expense"
   ]
  },
  {
   "cell_type": "code",
   "execution_count": 12,
   "id": "0883a1fb-2cb5-47b1-a408-1eb3cef50658",
   "metadata": {},
   "outputs": [],
   "source": [
    "def add_expense():\n",
    "    date = input(\"Enter date (YYYY-MM-DD): \")\n",
    "    category = input(\"Enter category (e.g., Food, Travel): \")\n",
    "    try:\n",
    "        amount = float(input(\"Enter amount spent: \"))\n",
    "    except ValueError:\n",
    "        print(\"Invalid amount. Please enter a numeric value.\")\n",
    "        return\n",
    "    description = input(\"Enter a brief description: \")\n",
    "    \n",
    "    expenses.append({'date': date, 'category': category, 'amount': amount, 'description': description})\n",
    "    print(\"Expense added successfully!\")"
   ]
  },
  {
   "cell_type": "markdown",
   "id": "b6e9621b-e512-4711-be89-91896a350bc4",
   "metadata": {},
   "source": [
    "# Step 5: View Expenses"
   ]
  },
  {
   "cell_type": "code",
   "execution_count": 13,
   "id": "8bd9fa5f-84ad-48ae-aa65-a8f6a625b845",
   "metadata": {},
   "outputs": [],
   "source": [
    "def view_expenses():\n",
    "    if not expenses:\n",
    "        print(\"No expenses recorded.\")\n",
    "        return\n",
    "    print(\"\\nYour Expenses:\")\n",
    "    print(\"-\" * 50)\n",
    "    for expense in expenses:\n",
    "        print(f\"Date: {expense['date']}, Category: {expense['category']}, Amount: ${expense['amount']:.2f}, Description: {expense['description']}\")\n",
    "    print(\"-\" * 50)"
   ]
  },
  {
   "cell_type": "markdown",
   "id": "27efa799-dca0-48f2-948b-cfce80ef6317",
   "metadata": {},
   "source": [
    "# Step 6: Set Monthly Budget"
   ]
  },
  {
   "cell_type": "code",
   "execution_count": 14,
   "id": "b73ddfb0-bd07-471a-9158-d1c3e907ad01",
   "metadata": {},
   "outputs": [],
   "source": [
    "def set_budget():\n",
    "    global budget\n",
    "    try:\n",
    "        budget = float(input(\"Enter your monthly budget: \"))\n",
    "        print(f\"Budget set to ${budget:.2f}\")\n",
    "    except ValueError:\n",
    "        print(\"Invalid input. Please enter a numeric value.\")\n"
   ]
  },
  {
   "cell_type": "markdown",
   "id": "32f20965-c4c2-4f09-a13e-067dcdb4c07c",
   "metadata": {},
   "source": [
    "# Step 7: Track Budget"
   ]
  },
  {
   "cell_type": "code",
   "execution_count": 15,
   "id": "f5dd4f0f-1f9b-4e78-9f77-3bff205ded11",
   "metadata": {},
   "outputs": [],
   "source": [
    "def track_budget():\n",
    "    total_spent = sum(expense['amount'] for expense in expenses)\n",
    "    print(f\"Total expenses so far: ${total_spent:.2f}\")\n",
    "    if budget > 0:\n",
    "        remaining = budget - total_spent\n",
    "        if remaining < 0:\n",
    "            print(\"Warning: You have exceeded your budget!\")\n",
    "        else:\n",
    "            print(f\"You have ${remaining:.2f} left for the month.\")\n"
   ]
  },
  {
   "cell_type": "code",
   "execution_count": null,
   "id": "f41838c7-4cb3-4696-999a-58da3c4e41fc",
   "metadata": {},
   "outputs": [],
   "source": [
    "# Usage:\n",
    "add_expense()   # Manually input an expense\n",
    "view_expenses() # View all recorded expenses\n",
    "set_budget()    # Set a monthly budget\n",
    "track_budget()  # Check if you've exceeded the budget\n",
    "save_expenses() # Save data before exiting"
   ]
  },
  {
   "cell_type": "code",
   "execution_count": 19,
   "id": "66bef241-f113-436b-953a-109d15efb9b5",
   "metadata": {},
   "outputs": [
    {
     "name": "stdin",
     "output_type": "stream",
     "text": [
      "Enter date (YYYY-MM-DD):  2025-01-01\n",
      "Enter category (e.g., Food, Travel):  Food\n",
      "Enter amount spent:  30\n",
      "Enter a brief description:  Fast Food\n"
     ]
    },
    {
     "name": "stdout",
     "output_type": "stream",
     "text": [
      "Expense added successfully!\n"
     ]
    }
   ],
   "source": [
    "add_expense()   # Manually input an expense"
   ]
  },
  {
   "cell_type": "code",
   "execution_count": 20,
   "id": "a55ced8f-5cc7-4cee-951b-7c9246524a40",
   "metadata": {},
   "outputs": [
    {
     "name": "stdout",
     "output_type": "stream",
     "text": [
      "\n",
      "Your Expenses:\n",
      "--------------------------------------------------\n",
      "Date: 2025-01-01, Category: Food, Amount: $30.00, Description: Fast Food\n",
      "--------------------------------------------------\n"
     ]
    }
   ],
   "source": [
    "view_expenses() # View all recorded expenses"
   ]
  },
  {
   "cell_type": "code",
   "execution_count": 21,
   "id": "0a731705-991f-4d77-bcda-896c488c4b4c",
   "metadata": {},
   "outputs": [
    {
     "name": "stdin",
     "output_type": "stream",
     "text": [
      "Enter your monthly budget:  20\n"
     ]
    },
    {
     "name": "stdout",
     "output_type": "stream",
     "text": [
      "Budget set to $20.00\n"
     ]
    }
   ],
   "source": [
    "set_budget()    # Set a monthly budget"
   ]
  },
  {
   "cell_type": "code",
   "execution_count": 22,
   "id": "39c25b16-fa98-450c-a4dc-bd8eee9b64ed",
   "metadata": {},
   "outputs": [
    {
     "name": "stdout",
     "output_type": "stream",
     "text": [
      "Total expenses so far: $30.00\n",
      "Warning: You have exceeded your budget!\n"
     ]
    }
   ],
   "source": [
    "track_budget()  # Check if you've exceeded the budget"
   ]
  },
  {
   "cell_type": "code",
   "execution_count": 23,
   "id": "28aacd4e-fcbf-45de-8123-484f32bbec8b",
   "metadata": {},
   "outputs": [
    {
     "name": "stdout",
     "output_type": "stream",
     "text": [
      "Expenses saved successfully!\n"
     ]
    }
   ],
   "source": [
    "save_expenses() # Save data before exiting"
   ]
  },
  {
   "cell_type": "code",
   "execution_count": null,
   "id": "25fdedca-3e87-4a33-b32f-eb1e316663de",
   "metadata": {},
   "outputs": [
    {
     "name": "stdout",
     "output_type": "stream",
     "text": [
      "\n",
      "Expense Tracker Menu:\n",
      "1. Add Expense\n",
      "2. View Expenses\n",
      "3. Set Budget\n",
      "4. Track Budget\n",
      "5. Save and Exit\n"
     ]
    },
    {
     "name": "stdin",
     "output_type": "stream",
     "text": [
      "Choose an option (1-5):  2\n"
     ]
    },
    {
     "name": "stdout",
     "output_type": "stream",
     "text": [
      "\n",
      "Your Expenses:\n",
      "--------------------------------------------------\n",
      "Date: 2025-01-01, Category: Food, Amount: $30.00, Description: Fast Food\n",
      "--------------------------------------------------\n",
      "\n",
      "Expense Tracker Menu:\n",
      "1. Add Expense\n",
      "2. View Expenses\n",
      "3. Set Budget\n",
      "4. Track Budget\n",
      "5. Save and Exit\n"
     ]
    },
    {
     "name": "stdin",
     "output_type": "stream",
     "text": [
      "Choose an option (1-5):  4\n"
     ]
    },
    {
     "name": "stdout",
     "output_type": "stream",
     "text": [
      "Total expenses so far: $30.00\n",
      "Warning: You have exceeded your budget!\n",
      "\n",
      "Expense Tracker Menu:\n",
      "1. Add Expense\n",
      "2. View Expenses\n",
      "3. Set Budget\n",
      "4. Track Budget\n",
      "5. Save and Exit\n"
     ]
    },
    {
     "name": "stdin",
     "output_type": "stream",
     "text": [
      "Choose an option (1-5):  5\n"
     ]
    }
   ],
   "source": [
    "load_expenses()\n",
    "\n",
    "while True:\n",
    "    print(\"\\nExpense Tracker Menu:\")\n",
    "    print(\"1. Add Expense\")\n",
    "    print(\"2. View Expenses\")\n",
    "    print(\"3. Set Budget\")\n",
    "    print(\"4. Track Budget\")\n",
    "    print(\"5. Save and Exit\")\n",
    "    \n",
    "    choice = input(\"Choose an option (1-5): \")\n",
    "    \n",
    "    if choice == '1':\n",
    "        add_expense()\n",
    "    elif choice == '2':\n",
    "        view_expenses()\n",
    "    elif choice == '3':\n",
    "        set_budget()\n",
    "    elif choice == '4':\n",
    "        track_budget()\n",
    "    elif choice == '5':\n",
    "        save_expenses()\n",
    "        print(\"Expenses saved. Goodbye!\")\n",
    "        break  # Moved inside the 'elif' block\n",
    "    else:\n",
    "        print(\"Invalid choice. Please try again.\")\n"
   ]
  },
  {
   "cell_type": "code",
   "execution_count": null,
   "id": "5600b3e0-ecdd-4823-94e4-23cab4ec2e76",
   "metadata": {},
   "outputs": [],
   "source": []
  }
 ],
 "metadata": {
  "kernelspec": {
   "display_name": "Python 3 [3.10]",
   "language": "python",
   "name": "python3"
  },
  "language_info": {
   "codemirror_mode": {
    "name": "ipython",
    "version": 3
   },
   "file_extension": ".py",
   "mimetype": "text/x-python",
   "name": "python",
   "nbconvert_exporter": "python",
   "pygments_lexer": "ipython3",
   "version": "3.10.2"
  }
 },
 "nbformat": 4,
 "nbformat_minor": 5
}
