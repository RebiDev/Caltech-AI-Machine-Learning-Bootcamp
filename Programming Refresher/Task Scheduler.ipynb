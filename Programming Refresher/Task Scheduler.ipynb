{
 "cells": [
  {
   "cell_type": "markdown",
   "id": "d735e4a9-f96a-4976-9237-48de4d650d96",
   "metadata": {},
   "source": [
    "## Main Code"
   ]
  },
  {
   "cell_type": "code",
   "execution_count": 2,
   "id": "b1913029-1a7a-417f-89b9-11f2c19b5606",
   "metadata": {},
   "outputs": [],
   "source": [
    "import csv\n",
    "import hashlib\n",
    "import os\n",
    "import json\n",
    "\n",
    "# File paths\n",
    "USERS_FILE = \"users.json\"\n",
    "TASKS_FILE = \"tasks.json\"\n",
    "EXPENSES_FILE = \"expenses.csv\"\n",
    "\n",
    "# User authentication\n",
    "def hash_password(password):\n",
    "    return hashlib.sha256(password.encode()).hexdigest()\n",
    "\n",
    "def load_users():\n",
    "    if not os.path.exists(USERS_FILE):\n",
    "        return {}\n",
    "    with open(USERS_FILE, \"r\") as f:\n",
    "        return json.load(f)\n",
    "\n",
    "def save_users(users):\n",
    "    with open(USERS_FILE, \"w\") as f:\n",
    "        json.dump(users, f)\n",
    "\n",
    "def register_user():\n",
    "    users = load_users()\n",
    "    username = input(\"Enter a new username: \")\n",
    "    if username in users:\n",
    "        print(\"Username already exists!\")\n",
    "        return None\n",
    "    password = input(\"Enter a new password: \")\n",
    "    users[username] = hash_password(password)\n",
    "    save_users(users)\n",
    "    print(\"Registration successful!\")\n",
    "    return username\n",
    "\n",
    "def login():\n",
    "    users = load_users()\n",
    "    username = input(\"Enter your username: \")\n",
    "    password = input(\"Enter your password: \")\n",
    "    if username in users and users[username] == hash_password(password):\n",
    "        print(\"Login successful!\")\n",
    "        return username\n",
    "    print(\"Invalid credentials!\")\n",
    "    return None\n",
    "\n",
    "# Task management\n",
    "def load_tasks():\n",
    "    if not os.path.exists(TASKS_FILE):\n",
    "        return {}\n",
    "    with open(TASKS_FILE, \"r\") as f:\n",
    "        return json.load(f)\n",
    "\n",
    "def save_tasks(tasks):\n",
    "    with open(TASKS_FILE, \"w\") as f:\n",
    "        json.dump(tasks, f)\n",
    "\n",
    "def add_task(username):\n",
    "    tasks = load_tasks()\n",
    "    task_id = str(len(tasks) + 1)\n",
    "    task_desc = input(\"Enter task description: \")\n",
    "    tasks[task_id] = {\"user\": username, \"desc\": task_desc, \"status\": \"Pending\"}\n",
    "    save_tasks(tasks)\n",
    "    print(\"Task added successfully!\")\n",
    "\n",
    "def view_tasks(username):\n",
    "    tasks = load_tasks()\n",
    "    user_tasks = {k: v for k, v in tasks.items() if v['user'] == username}\n",
    "    if not user_tasks:\n",
    "        print(\"No tasks found.\")\n",
    "    else:\n",
    "        for tid, task in user_tasks.items():\n",
    "            print(f\"ID: {tid} | {task['desc']} | {task['status']}\")\n",
    "\n",
    "def complete_task(username):\n",
    "    tasks = load_tasks()\n",
    "    task_id = input(\"Enter task ID to complete: \")\n",
    "    if task_id in tasks and tasks[task_id]['user'] == username:\n",
    "        tasks[task_id]['status'] = \"Completed\"\n",
    "        save_tasks(tasks)\n",
    "        print(\"Task marked as completed!\")\n",
    "    else:\n",
    "        print(\"Invalid task ID.\")\n",
    "\n",
    "def delete_task(username):\n",
    "    tasks = load_tasks()\n",
    "    task_id = input(\"Enter task ID to delete: \")\n",
    "    if task_id in tasks and tasks[task_id]['user'] == username:\n",
    "        del tasks[task_id]\n",
    "        save_tasks(tasks)\n",
    "        print(\"Task deleted successfully!\")\n",
    "    else:\n",
    "        print(\"Invalid task ID.\")\n",
    "\n",
    "# Budget and expenses\n",
    "def add_expense():\n",
    "    date = input(\"Enter date (YYYY-MM-DD): \")\n",
    "    category = input(\"Enter category: \")\n",
    "    amount = float(input(\"Enter amount: \"))\n",
    "    description = input(\"Enter description: \")\n",
    "    with open(EXPENSES_FILE, \"a\", newline=\"\") as f:\n",
    "        writer = csv.writer(f)\n",
    "        writer.writerow([date, category, amount, description])\n",
    "    print(\"Expense added successfully!\")\n",
    "\n",
    "def view_expenses():\n",
    "    if not os.path.exists(EXPENSES_FILE):\n",
    "        print(\"No expenses found.\")\n",
    "        return\n",
    "    with open(EXPENSES_FILE, \"r\") as f:\n",
    "        reader = csv.reader(f)\n",
    "        for row in reader:\n",
    "            print(f\"Date: {row[0]}, Category: {row[1]}, Amount: ${row[2]}, Description: {row[3]}\")\n",
    "\n",
    "def track_budget():\n",
    "    budget = float(input(\"Enter your monthly budget: \"))\n",
    "    total_spent = 0\n",
    "    if os.path.exists(EXPENSES_FILE):\n",
    "        with open(EXPENSES_FILE, \"r\") as f:\n",
    "            reader = csv.reader(f)\n",
    "            total_spent = sum(float(row[2]) for row in reader)\n",
    "    remaining = budget - total_spent\n",
    "    print(f\"Total spent: ${total_spent:.2f}, Remaining: ${remaining:.2f}\")\n",
    "    if remaining < 0:\n",
    "        print(\"Warning: You have exceeded your budget!\")\n",
    "\n",
    "def save_expenses():\n",
    "    print(\"Expenses saved successfully!\")"
   ]
  },
  {
   "cell_type": "markdown",
   "id": "8c7e7bc0-0493-4aae-af43-825da7759b6a",
   "metadata": {},
   "source": [
    "## UI interface"
   ]
  },
  {
   "cell_type": "code",
   "execution_count": null,
   "id": "ead01e4e-f1eb-4ea6-be69-d2eb004ac8df",
   "metadata": {},
   "outputs": [
    {
     "name": "stdout",
     "output_type": "stream",
     "text": [
      "Welcome to Task & Budget Manager!\n"
     ]
    },
    {
     "name": "stdin",
     "output_type": "stream",
     "text": [
      "Login (L) / Register (R):  R\n",
      "Enter a new username:  test\n",
      "Enter a new password:  test\n"
     ]
    },
    {
     "name": "stdout",
     "output_type": "stream",
     "text": [
      "Registration successful!\n",
      "\n",
      "Menu:\n",
      "1. Add Task\n",
      "2. View Tasks\n",
      "3. Complete Task\n",
      "4. Delete Task\n",
      "5. Add Expense\n",
      "6. View Expenses\n",
      "7. Track Budget\n",
      "8. Save Expenses\n",
      "9. Logout\n"
     ]
    },
    {
     "name": "stdin",
     "output_type": "stream",
     "text": [
      "Choose an option:  2\n"
     ]
    },
    {
     "name": "stdout",
     "output_type": "stream",
     "text": [
      "No tasks found.\n",
      "\n",
      "Menu:\n",
      "1. Add Task\n",
      "2. View Tasks\n",
      "3. Complete Task\n",
      "4. Delete Task\n",
      "5. Add Expense\n",
      "6. View Expenses\n",
      "7. Track Budget\n",
      "8. Save Expenses\n",
      "9. Logout\n"
     ]
    },
    {
     "name": "stdin",
     "output_type": "stream",
     "text": [
      "Choose an option:  1\n",
      "Enter task description:  Do laundry\n"
     ]
    },
    {
     "name": "stdout",
     "output_type": "stream",
     "text": [
      "Task added successfully!\n",
      "\n",
      "Menu:\n",
      "1. Add Task\n",
      "2. View Tasks\n",
      "3. Complete Task\n",
      "4. Delete Task\n",
      "5. Add Expense\n",
      "6. View Expenses\n",
      "7. Track Budget\n",
      "8. Save Expenses\n",
      "9. Logout\n"
     ]
    },
    {
     "name": "stdin",
     "output_type": "stream",
     "text": [
      "Choose an option:  2\n"
     ]
    },
    {
     "name": "stdout",
     "output_type": "stream",
     "text": [
      "ID: 1 | Do laundry | Pending\n",
      "\n",
      "Menu:\n",
      "1. Add Task\n",
      "2. View Tasks\n",
      "3. Complete Task\n",
      "4. Delete Task\n",
      "5. Add Expense\n",
      "6. View Expenses\n",
      "7. Track Budget\n",
      "8. Save Expenses\n",
      "9. Logout\n"
     ]
    },
    {
     "name": "stdin",
     "output_type": "stream",
     "text": [
      "Choose an option:  3\n",
      "Enter task ID to complete:  1\n"
     ]
    },
    {
     "name": "stdout",
     "output_type": "stream",
     "text": [
      "Task marked as completed!\n",
      "\n",
      "Menu:\n",
      "1. Add Task\n",
      "2. View Tasks\n",
      "3. Complete Task\n",
      "4. Delete Task\n",
      "5. Add Expense\n",
      "6. View Expenses\n",
      "7. Track Budget\n",
      "8. Save Expenses\n",
      "9. Logout\n"
     ]
    },
    {
     "name": "stdin",
     "output_type": "stream",
     "text": [
      "Choose an option:  2\n"
     ]
    },
    {
     "name": "stdout",
     "output_type": "stream",
     "text": [
      "ID: 1 | Do laundry | Completed\n",
      "\n",
      "Menu:\n",
      "1. Add Task\n",
      "2. View Tasks\n",
      "3. Complete Task\n",
      "4. Delete Task\n",
      "5. Add Expense\n",
      "6. View Expenses\n",
      "7. Track Budget\n",
      "8. Save Expenses\n",
      "9. Logout\n"
     ]
    },
    {
     "name": "stdin",
     "output_type": "stream",
     "text": [
      "Choose an option:  4\n",
      "Enter task ID to delete:  1\n"
     ]
    },
    {
     "name": "stdout",
     "output_type": "stream",
     "text": [
      "Task deleted successfully!\n",
      "\n",
      "Menu:\n",
      "1. Add Task\n",
      "2. View Tasks\n",
      "3. Complete Task\n",
      "4. Delete Task\n",
      "5. Add Expense\n",
      "6. View Expenses\n",
      "7. Track Budget\n",
      "8. Save Expenses\n",
      "9. Logout\n"
     ]
    },
    {
     "name": "stdin",
     "output_type": "stream",
     "text": [
      "Choose an option:  2\n"
     ]
    },
    {
     "name": "stdout",
     "output_type": "stream",
     "text": [
      "No tasks found.\n",
      "\n",
      "Menu:\n",
      "1. Add Task\n",
      "2. View Tasks\n",
      "3. Complete Task\n",
      "4. Delete Task\n",
      "5. Add Expense\n",
      "6. View Expenses\n",
      "7. Track Budget\n",
      "8. Save Expenses\n",
      "9. Logout\n"
     ]
    }
   ],
   "source": [
    "print(\"Welcome to Task & Budget Manager!\")\n",
    "user = None\n",
    "while not user:\n",
    "    choice = input(\"Login (L) / Register (R): \").lower()\n",
    "    if choice == 'l':\n",
    "        user = login()\n",
    "    elif choice == 'r':\n",
    "        user = register_user()\n",
    "\n",
    "while True:\n",
    "    print(\"\\nMenu:\")\n",
    "    print(\"1. Add Task\")\n",
    "    print(\"2. View Tasks\")\n",
    "    print(\"3. Complete Task\")\n",
    "    print(\"4. Delete Task\")\n",
    "    print(\"5. Add Expense\")\n",
    "    print(\"6. View Expenses\")\n",
    "    print(\"7. Track Budget\")\n",
    "    print(\"8. Save Expenses\")\n",
    "    print(\"9. Logout\")\n",
    "    choice = input(\"Choose an option: \")\n",
    "\n",
    "    if choice == \"1\":\n",
    "        add_task(user)\n",
    "    elif choice == \"2\":\n",
    "        view_tasks(user)\n",
    "    elif choice == \"3\":\n",
    "        complete_task(user)\n",
    "    elif choice == \"4\":\n",
    "        delete_task(user)\n",
    "    elif choice == \"5\":\n",
    "        add_expense()\n",
    "    elif choice == \"6\":\n",
    "        view_expenses()\n",
    "    elif choice == \"7\":\n",
    "        track_budget()\n",
    "    elif choice == \"8\":\n",
    "        save_expenses()\n",
    "    elif choice == \"9\":\n",
    "        print(\"Logging out...\")\n",
    "        break\n",
    "    else:\n",
    "        print(\"Invalid choice, please try again.\")\n",
    "\n"
   ]
  },
  {
   "cell_type": "code",
   "execution_count": null,
   "id": "9ee28650-d22c-4e40-98d6-c148c7c1686f",
   "metadata": {},
   "outputs": [],
   "source": []
  }
 ],
 "metadata": {
  "kernelspec": {
   "display_name": "Python 3 [3.10]",
   "language": "python",
   "name": "python3"
  },
  "language_info": {
   "codemirror_mode": {
    "name": "ipython",
    "version": 3
   },
   "file_extension": ".py",
   "mimetype": "text/x-python",
   "name": "python",
   "nbconvert_exporter": "python",
   "pygments_lexer": "ipython3",
   "version": "3.10.2"
  }
 },
 "nbformat": 4,
 "nbformat_minor": 5
}
